{
 "cells": [
  {
   "cell_type": "code",
   "execution_count": 1,
   "metadata": {},
   "outputs": [],
   "source": [
    "#import the different packages used throughout\n",
    "import xarray as xr\n",
    "import numpy as np\n",
    "import pandas as pd\n",
    "import matplotlib\n",
    "import matplotlib.pyplot as plt\n",
    "import glob\n",
    "from sklearn.cluster import DBSCAN\n",
    "from sklearn import metrics\n",
    "from sklearn.metrics import pairwise_distances, davies_bouldin_score\n",
    "from mpl_toolkits.basemap import Basemap\n",
    "from bayes_opt import BayesianOptimization\n",
    "\n",
    "%matplotlib inline"
   ]
  },
  {
   "cell_type": "code",
   "execution_count": null,
   "metadata": {},
   "outputs": [],
   "source": [
    "def main_program():\n",
    "    #Define Key Values Here\n",
    "    GridScale = 2 #value to scale lat/lon by to make sure they are weighted similarly to time\n",
    "    SR_minrate = 5 #only keep data with rainrate greater than this value\n",
    "    opt_frac = .05 #fraction of data to use when determining the optimal dbscan parameters\n",
    "    \n",
    "    Data, Time, A = load_s3_data(SR_minrate)\n",
    "    DeltaTime = time_to_deltaTime(Time)\n",
    "    \n",
    "    Data = np.concatenate((DeltaTime.reshape(len(DeltaTime),1), Data), axis=1)\n",
    "    Data = np.squeeze(Data)\n",
    "    \n",
    "    DatatoCluster = data_to_cluster(Data, GridScale)\n",
    "    \n",
    "    eps, minSamples = optimal_params(DatatoCluster[0:int(len(DatatoCluster)*opt_frac),:])\n",
    "    \n",
    "    labels = cluster_and_label_data(DatatoCluster,eps,minSamples)\n",
    "    \n",
    "    #Want to save this output but not sure what the best format is\n"
   ]
  },
  {
   "cell_type": "code",
   "execution_count": 31,
   "metadata": {},
   "outputs": [],
   "source": [
    "####NEED TO TEST THIS!#####\n",
    "#function that will ultimately connect to and read in files from S3\n",
    "def load_s3_data(SR_minrate):\n",
    "    \n",
    "    #create empty matrices to hold the extracted data\n",
    "    Lat_Heat = []\n",
    "    surf_r = []\n",
    "    LAT = []\n",
    "    LON = []\n",
    "    TIME = []\n",
    "    count = 0\n",
    "    #file = 'TPR7_uw1_00538.19980101.000558_EPO.nc4'\n",
    "    for file in S3:\n",
    "        L, S, A, la, lo, Ti = extract_data(xr.open_dataset(file),SR_minrate)\n",
    "       #append the new data in the matrices\n",
    "        if count==0:\n",
    "            Lat_Heat = L\n",
    "            LAT = la[:,0]\n",
    "            LON = lo[:,0]\n",
    "            TIME = Ti\n",
    "            count += 1\n",
    "        else:\n",
    "            Lat_Heat = np.concatenate((Lat_Heat,L),axis =0)\n",
    "            LAT = np.concatenate((LAT,la[:,0]),axis =0)\n",
    "            LON = np.concatenate((LON,lo[:,0]),axis =0)\n",
    "            TIME = np.concatenate((TIME,Ti),axis =0)\n",
    "        surf_r = np.append(surf_r,S)\n",
    "\n",
    "    #Put all the data into one array, where rows are individual observations and the columns are \n",
    "    #[Latitude, Longitude, Surface Rain, Latent Heat Profile]\n",
    "    Data = np.concatenate((LAT.reshape(len(LAT),1),LON.reshape(len(LON),1),surf_r.reshape(len(surf_r),1),Lat_Heat),axis=1)\n",
    "    Data = np.squeeze(Data)\n",
    "    \n",
    "    #Remove repeated values\n",
    "    uniqueData = np.unique(Data,axis=0)\n",
    "    \n",
    "    return uniqueData, TIME, A\n",
    "    "
   ]
  },
  {
   "cell_type": "code",
   "execution_count": 4,
   "metadata": {},
   "outputs": [],
   "source": [
    "#Translate the time into delta time since the first datapoint (in hours)\n",
    "def time_to_deltaTime(Time):\n",
    "    InitialTime = np.min(Time)\n",
    "    DeltaTime = []\n",
    "    DeltaTime[:] = [int(x-InitialTime)/(10**9*60*60) for x in Time] #from nanoseconds to hours\n",
    "    DeltaTime = np.array(DeltaTime) #convert from list to array\n",
    "    \n",
    "    return DeltaTime"
   ]
  },
  {
   "cell_type": "code",
   "execution_count": 55,
   "metadata": {},
   "outputs": [],
   "source": [
    "#Create array to Cluster the rainfall events, Scale the grid lat/lon so it is weighted 'fairly' compared to time\n",
    "def data_to_cluster(Data, GridScale):\n",
    "    #Extract [Lat, Lon, DeltaTime]\n",
    "    Xdata = np.vstack((Data[:,1]*GridScale,Data[:,2]*GridScale,Data[:,0]))\n",
    "    Xdata = Xdata.T\n",
    "    return Xdata"
   ]
  },
  {
   "cell_type": "code",
   "execution_count": 6,
   "metadata": {},
   "outputs": [],
   "source": [
    "def cluster_and_label_data(Data,eps,min_samps):\n",
    "    model = DBSCAN(eps=eps, min_samples=min_samps)\n",
    "    model.fit(Data)\n",
    "\n",
    "    labels = model.labels_\n",
    "    \n",
    "    return labels"
   ]
  },
  {
   "cell_type": "code",
   "execution_count": 8,
   "metadata": {},
   "outputs": [],
   "source": [
    "#Use Bayesian Optimization on the data to get the best parameters for the clustering\n",
    "def optimal_params(Data):\n",
    "    Opt = optimize_dbscan(Data,'davies') #it seems like silhouette takes substantially longer?\n",
    "    min_samps = int(Opt['params']['min_samp'])\n",
    "    eps = Opt['params']['EPS']\n",
    "\n",
    "    return eps, min_samps"
   ]
  },
  {
   "cell_type": "code",
   "execution_count": 9,
   "metadata": {},
   "outputs": [],
   "source": [
    "#function that fits dbscan for given parameters and returns the davies bouldin score evaluation metric \n",
    "def dbscan_eval_db(eps,min_samples,data):\n",
    "    model = DBSCAN(eps=eps, min_samples=min_samples)\n",
    "    model.fit(data)\n",
    "    labels = model.labels_\n",
    "    if len(set(labels))<2:\n",
    "        score = 0\n",
    "    else:\n",
    "        score = davies_bouldin_score(data, labels)\n",
    "        \n",
    "    return score"
   ]
  },
  {
   "cell_type": "code",
   "execution_count": 10,
   "metadata": {},
   "outputs": [],
   "source": [
    "#function that fits dbscan for given parameters and returns the silhouette score evaluation metric \n",
    "def dbscan_eval_sil(eps,min_samples,data):\n",
    "    model = DBSCAN(eps=eps, min_samples=min_samples)\n",
    "    model.fit(data)\n",
    "    labels = model.labels_\n",
    "    if len(set(labels))<2:\n",
    "        score = 0\n",
    "    else:\n",
    "        score = metrics.silhouette_score(data,labels)\n",
    "        \n",
    "    return score"
   ]
  },
  {
   "cell_type": "code",
   "execution_count": 58,
   "metadata": {},
   "outputs": [],
   "source": [
    "#Applies bayesian optimization to determine DBSCAN parameters that maximize the evaluation metric (specified as input)\n",
    "def optimize_dbscan(data,metric='silhouette'):\n",
    "    \"\"\"Apply Bayesian Optimization to DBSCAN parameters.\"\"\"\n",
    "    def dbscan_evaluation_sil(EPS, min_samp):\n",
    "        \"\"\"Wrapper of DBSCAN evaluation.\"\"\"\n",
    "        min_samp = int(min_samp) #insure that you are using an integer value for the minimum samples parameter\n",
    "        return dbscan_eval_sil(eps=EPS, min_samples=min_samp, data=data)\n",
    "\n",
    "    def dbscan_evaluation_db(EPS, min_samp):\n",
    "        \"\"\"Wrapper of DBSCAN evaluation.\"\"\"\n",
    "        min_samp = int(min_samp) #insure that you are using an integer value for the minimum samples parameter\n",
    "        return dbscan_eval_db(eps=EPS, min_samples=min_samp, data=data)\n",
    "\n",
    "    if metric == 'davies':\n",
    "        optimizer = BayesianOptimization(\n",
    "            f=dbscan_evaluation_db,\n",
    "            pbounds={\"EPS\": (7, 13), \"min_samp\": (5, 30)}, #bounds on my parameters - these are very rough guesses right now\n",
    "            random_state=1234,\n",
    "            verbose=0\n",
    "        )\n",
    "        \n",
    "    else:\n",
    "        optimizer = BayesianOptimization(\n",
    "            f=dbscan_evaluation_sil,\n",
    "            pbounds={\"EPS\": (7, 13), \"min_samp\": (5, 30)}, #bounds on my parameters - these are very rough guesses right now\n",
    "            random_state=1234,\n",
    "            verbose=0\n",
    "        )\n",
    "    \n",
    "    optimizer.maximize(n_iter=10)\n",
    "\n",
    "    #print(\"Final result:\", optimizer.max)\n",
    "    return optimizer.max"
   ]
  },
  {
   "cell_type": "code",
   "execution_count": 12,
   "metadata": {},
   "outputs": [],
   "source": [
    "#This function takes in a file name (downloaded from trmm.atmos.washington.edu) and extracts the variables\n",
    "#that I care about (latitude, longitude, altitude, surface rain, latent heat). It does the inital data checks and\n",
    "#throws out profiles with missing information or minimal rainfall. It returns the variables I care about that pass these\n",
    "#checks\n",
    "\n",
    "def extract_data(file, SR_min):\n",
    "    #Extract the data you want from file\n",
    "    altitude_lh = file.altitude_lh.data\n",
    "    surf_rain = file.surf_rain.data\n",
    "    latent_heating = file.latent_heating.data\n",
    "\n",
    "    lat = file.latitude.data\n",
    "    lon = file.longitude.data\n",
    "    time = file.time.data\n",
    "    \n",
    "    #create grid of altitude, lat, and lon coordinates\n",
    "    LAT, ALTITUDE, LON = np.meshgrid(lat, altitude_lh, lon)\n",
    "\n",
    "    #size of lat and lon as variables\n",
    "    nlat = len(lat)\n",
    "    nlon = len(lon)\n",
    "    nalt = len(altitude_lh)\n",
    "\n",
    "    #reshape as column vector (note the indicing is now column*ncolumns+row)\n",
    "    surf_rain = np.reshape(surf_rain,[nlat*nlon])\n",
    "    LH = np.reshape(latent_heating,[nalt,nlat*nlon])\n",
    "    ALTITUDE = np.reshape (ALTITUDE,[nalt,nlat*nlon])\n",
    "    LON = np.reshape (LON,[nalt,nlat*nlon])\n",
    "    LAT = np.reshape (LAT,[nalt,nlat*nlon])\n",
    "\n",
    "    #Remove values with NaN and rainfall less than cut-off\n",
    "    surf_R = surf_rain[~np.isnan(surf_rain)]\n",
    "    surf_r = surf_R[surf_R>=SR_min]\n",
    "\n",
    "    Lat_Heat = LH[:,~np.isnan(surf_rain)]\n",
    "    Lat_Heat = Lat_Heat[:,surf_R>=SR_min]\n",
    "    Lat_Heat = np.squeeze(Lat_Heat)\n",
    "\n",
    "    ALTITUDE = ALTITUDE[:,~np.isnan(surf_rain)]\n",
    "    ALTITUDE = ALTITUDE[:,surf_R>=SR_min]\n",
    "    ALTITUDE = np.squeeze(ALTITUDE)\n",
    "\n",
    "    LAT = LAT[:,~np.isnan(surf_rain)]\n",
    "    LAT = LAT[:,surf_R>=SR_min]\n",
    "    LAT = np.squeeze(LAT)\n",
    "\n",
    "    LON = LON[:,~np.isnan(surf_rain)]\n",
    "    LON = LON[:,surf_R>=SR_min]\n",
    "    LON = np.squeeze(LON)\n",
    "\n",
    "    #Remove any profiles where there is missing latent heat info\n",
    "    surf_r = surf_r[~pd.isnull(Lat_Heat).any(axis=0)]\n",
    "    LAT = LAT[:,~pd.isnull(Lat_Heat).any(axis=0)]\n",
    "    LON = LON[:,~pd.isnull(Lat_Heat).any(axis=0)]\n",
    "    ALTITUDE = ALTITUDE[:,~pd.isnull(Lat_Heat).any(axis=0)]\n",
    "    Lat_Heat = Lat_Heat[:,~pd.isnull(Lat_Heat).any(axis=0)]\n",
    "    Time = np.repeat(time,len(surf_r))\n",
    "    \n",
    "    return Lat_Heat.T, surf_r.T, ALTITUDE.T, LAT.T, LON.T, Time.T"
   ]
  },
  {
   "cell_type": "code",
   "execution_count": null,
   "metadata": {},
   "outputs": [],
   "source": [
    "#Old code that was used originally to loop through the files in the EPO (eastern Pacific Ocean) for 2018 that I had \n",
    "#downloaded to my local machine and repackage observations with rain into monthly files. Those files were then saved\n",
    "#to my local machine\n",
    "\n",
    "#for each month, extract the rain events that happen during that month and save it as a new netcdf file\n",
    "#months = ['01','02','03','04','05','06','07','08','09','10','11','12']\n",
    "#for m in range(len(months)):\n",
    "#   #create empty matrices to hold the extracted data\n",
    "#    Lat_Heat = []\n",
    "#    surf_r = []\n",
    "#    ALTITUDE = []\n",
    "#    LAT = []\n",
    "#    LON = []\n",
    "#    TIME = []\n",
    "#    count = 0\n",
    "#\n",
    "#   #loop through each file in the given month folder\n",
    "#    for file in glob.glob(\"/Users/Lauren/Documents/NOAA/Precipitation/**/\"+months[m]+\"/*.nc4\", recursive=True):\n",
    "#        #extract the relevant data I wish to keep\n",
    "#        L, S, A, la, lo, Ti = extract_data(xr.open_dataset(file))\n",
    "#       #append the new data in the matrices\n",
    "#        if count==0:\n",
    "#            Lat_Heat = L\n",
    "#            ALTITUDE = A\n",
    "#            LAT = la\n",
    "#            LON = lo\n",
    "#            TIME = Ti\n",
    "#            count += 1\n",
    "#        else:\n",
    "#            Lat_Heat = np.concatenate((Lat_Heat,L),axis =0)\n",
    "#            ALTITUDE = np.concatenate((ALTITUDE,A),axis =0)\n",
    "#            LAT = np.concatenate((LAT,la),axis =0)\n",
    "#            LON = np.concatenate((LON,lo),axis =0)\n",
    "#            TIME = np.concatenate((TIME,Ti),axis =0)\n",
    "#        surf_r = np.append(surf_r,S)\n",
    "# \n",
    "#    #package the matrices as a dataset to save as a netcdf\n",
    "#    data_in_month = xr.Dataset(\n",
    "#        data_vars = {'Latitude': (('time', 'altitude'),LAT), \n",
    "#                     'Longitude': (('time', 'altitude'),LON), \n",
    "#                     'Latent_Heat': (('time', 'altitude'), Lat_Heat),\n",
    "#                     'surface_rain': (('time'), surf_r)},\n",
    "#        coords = {'time': TIME,\n",
    "#                 'altitude': ALTITUDE[0,:]})\n",
    "#\n",
    "#    #save as a netcdf\n",
    "#    data_in_month.to_netcdf(path = \"EPO_1998_\"+months[m]+\".nc4\", compute = True)\n"
   ]
  },
  {
   "cell_type": "code",
   "execution_count": 61,
   "metadata": {},
   "outputs": [
    {
     "name": "stdout",
     "output_type": "stream",
     "text": [
      "[ 0  0  0  0  0  0  0  0  0  0  0  0  0  0  0  0  0  0  0  0  0  0  0  0\n",
      "  0  0  0  0  1  0  0  0  0  0  0 -1 -1  0  0  0  0  0  1 -1  0  0  0  0\n",
      "  0  0  0  0  1  0  0  0  0  0  0  0  0  0  0  0  0  0  0  0  0  0  0  0\n",
      "  0  0  0  0  0  0  0  0  0  0  0  0  0  0  0  0  0  0  0  0  0  0  0  0\n",
      "  0  0  0  0  0  0  0  0  0  0  0  0  0  0  0  1  0  0  0  0 -1  0  0  0\n",
      "  0  0  0  0  0  0  0  0  0  0  0  0  0  0  0  0  0  0  0  1  0  0  0  0\n",
      "  0  0  0  0  0  0  0  0  0  0  0  0  0  0  0  0  0  0  0  0  0  0  0  0\n",
      "  0  0  0  0  0  0  0  0  0  0  0  0  0  0  0  0  0  0  0  0  0  0  0  0\n",
      "  0  0  0  0  0  0  0  0  0  0  0  0  0  0 -1  0  0  0  0  0  0  0  0  0\n",
      "  0  0  0  0  0  0  0  0  0]\n"
     ]
    }
   ],
   "source": [
    "GridScale = 2 #value to scale lat/lon by to make sure they are weighted similarly to time\n",
    "SR_minrate = 5 #only keep data with rainrate greater than this value\n",
    "opt_frac = .5 #fraction of data to use when determining the optimal dbscan parameters\n",
    "\n",
    "#Data, Time, A = load_s3_data(SR_minrate)\n",
    "\n",
    "#DeltaTime = time_to_deltaTime(Time)\n",
    "#print(np.shape(DeltaTime))\n",
    "#Data = np.concatenate((DeltaTime.reshape(len(DeltaTime),1), Data), axis=1)\n",
    "#print(np.shape(Data))\n",
    "\n",
    "#Data = np.squeeze(Data)\n",
    "#Data = Data[:,1:]\n",
    "#print(np.shape(Data))\n",
    "\n",
    "#DatatoCluster = data_to_cluster(Data, GridScale)\n",
    "    \n",
    "#eps, minSamples = optimal_params(DatatoCluster[0:int(len(DatatoCluster)*opt_frac),:])\n",
    "#labels = cluster_and_label_data(DatatoCluster,eps,minSamples)\n",
    "\n"
   ]
  },
  {
   "cell_type": "code",
   "execution_count": 6,
   "metadata": {},
   "outputs": [],
   "source": [
    "#Load in the data from my local machine (now in the monthly compiled files)\n",
    "\n",
    "#Create empty matrices\n",
    "LH = []\n",
    "SR = []\n",
    "Longitude = []\n",
    "Latitude = []\n",
    "Time = []\n",
    "count = 1\n",
    "#for each file in the folder, extract and compile the profiles\n",
    "for file in glob.glob(\"*.nc4\"):\n",
    "    ds = xr.open_dataset(file)\n",
    "    if count==1: \n",
    "        LH = ds.Latent_Heat.data\n",
    "        count +=1\n",
    "    else:\n",
    "        LH = np.concatenate((LH,ds.Latent_Heat.data),axis=0)\n",
    "    SR = np.append(SR,ds.surface_rain.data)\n",
    "    Latitude = np.append(Latitude,ds.Latitude.data[:,1])\n",
    "    Longitude = np.append(Longitude,ds.Longitude.data[:,1])\n",
    "    Time.extend(ds.time.data) #I'm not sure I'm treating the time component properly"
   ]
  },
  {
   "cell_type": "code",
   "execution_count": 7,
   "metadata": {},
   "outputs": [],
   "source": [
    "#Translate the time into delta time since the first datapoint (in hours)\n",
    "InitialTime = np.min(Time)\n",
    "DeltaTime = []\n",
    "DeltaTime[:] = [int(x-InitialTime)/(10**9*60*60) for x in Time] #from nanoseconds to hours\n",
    "DeltaTime = np.array(DeltaTime) #convert from list to array"
   ]
  },
  {
   "cell_type": "code",
   "execution_count": 167,
   "metadata": {},
   "outputs": [],
   "source": [
    "#Combine the time, latitude, longitude, and rain rate together for training data to cluster rain events\n",
    "#Note - I've scaled the time to be 4 hours = 1 to make sure the clustering is weighted properly along the different dimensions\n",
    "#this can still be tuned futher\n",
    "#Xdata = np.concatenate((Latitude.reshape(len(Latitude),1),Longitude.reshape(len(Longitude),1),DeltaTime.reshape(len(DeltaTime),1),SR.reshape(len(SR),1)),axis=1)\n",
    "Xdata = np.concatenate((Latitude.reshape(len(Latitude),1)*2,Longitude.reshape(len(Longitude),1)*2,DeltaTime.reshape(len(DeltaTime),1)),axis=1)\n",
    "Xdata = Xdata[np.where(SR>5),:] #Only look at rain events greater than 5 mm/hour - need to confirm units!\n",
    "Xdata = np.squeeze(Xdata)\n"
   ]
  },
  {
   "cell_type": "code",
   "execution_count": 189,
   "metadata": {},
   "outputs": [
    {
     "name": "stdout",
     "output_type": "stream",
     "text": [
      "|   iter    |  target   |    EPS    | min_samp  |\n",
      "-------------------------------------------------\n"
     ]
    },
    {
     "name": "stderr",
     "output_type": "stream",
     "text": [
      "/anaconda3/envs/py37/lib/python3.6/site-packages/sklearn/metrics/cluster/unsupervised.py:342: RuntimeWarning: divide by zero encountered in true_divide\n",
      "  score = (intra_dists[:, None] + intra_dists) / centroid_distances\n"
     ]
    },
    {
     "name": "stdout",
     "output_type": "stream",
     "text": [
      "| \u001b[0m 1       \u001b[0m | \u001b[0m 1.295   \u001b[0m | \u001b[0m 8.149   \u001b[0m | \u001b[0m 20.55   \u001b[0m |\n"
     ]
    },
    {
     "name": "stderr",
     "output_type": "stream",
     "text": [
      "/anaconda3/envs/py37/lib/python3.6/site-packages/sklearn/metrics/cluster/unsupervised.py:342: RuntimeWarning: divide by zero encountered in true_divide\n",
      "  score = (intra_dists[:, None] + intra_dists) / centroid_distances\n"
     ]
    },
    {
     "name": "stdout",
     "output_type": "stream",
     "text": [
      "| \u001b[95m 2       \u001b[0m | \u001b[95m 1.299   \u001b[0m | \u001b[95m 9.626   \u001b[0m | \u001b[95m 24.63   \u001b[0m |\n"
     ]
    },
    {
     "name": "stderr",
     "output_type": "stream",
     "text": [
      "/anaconda3/envs/py37/lib/python3.6/site-packages/sklearn/metrics/cluster/unsupervised.py:342: RuntimeWarning: divide by zero encountered in true_divide\n",
      "  score = (intra_dists[:, None] + intra_dists) / centroid_distances\n"
     ]
    },
    {
     "name": "stdout",
     "output_type": "stream",
     "text": [
      "| \u001b[95m 3       \u001b[0m | \u001b[95m 1.389   \u001b[0m | \u001b[95m 11.68   \u001b[0m | \u001b[95m 11.81   \u001b[0m |\n"
     ]
    },
    {
     "name": "stderr",
     "output_type": "stream",
     "text": [
      "/anaconda3/envs/py37/lib/python3.6/site-packages/sklearn/metrics/cluster/unsupervised.py:342: RuntimeWarning: divide by zero encountered in true_divide\n",
      "  score = (intra_dists[:, None] + intra_dists) / centroid_distances\n"
     ]
    },
    {
     "name": "stdout",
     "output_type": "stream",
     "text": [
      "| \u001b[0m 4       \u001b[0m | \u001b[0m 1.313   \u001b[0m | \u001b[0m 8.659   \u001b[0m | \u001b[0m 25.05   \u001b[0m |\n"
     ]
    },
    {
     "name": "stderr",
     "output_type": "stream",
     "text": [
      "/anaconda3/envs/py37/lib/python3.6/site-packages/sklearn/metrics/cluster/unsupervised.py:342: RuntimeWarning: divide by zero encountered in true_divide\n",
      "  score = (intra_dists[:, None] + intra_dists) / centroid_distances\n"
     ]
    },
    {
     "name": "stdout",
     "output_type": "stream",
     "text": [
      "| \u001b[0m 5       \u001b[0m | \u001b[0m 1.339   \u001b[0m | \u001b[0m 12.75   \u001b[0m | \u001b[0m 26.9    \u001b[0m |\n"
     ]
    },
    {
     "name": "stderr",
     "output_type": "stream",
     "text": [
      "/anaconda3/envs/py37/lib/python3.6/site-packages/sklearn/metrics/cluster/unsupervised.py:342: RuntimeWarning: divide by zero encountered in true_divide\n",
      "  score = (intra_dists[:, None] + intra_dists) / centroid_distances\n"
     ]
    },
    {
     "name": "stdout",
     "output_type": "stream",
     "text": [
      "| \u001b[0m 6       \u001b[0m | \u001b[0m 1.304   \u001b[0m | \u001b[0m 7.0     \u001b[0m | \u001b[0m 5.0     \u001b[0m |\n"
     ]
    },
    {
     "name": "stderr",
     "output_type": "stream",
     "text": [
      "/anaconda3/envs/py37/lib/python3.6/site-packages/sklearn/metrics/cluster/unsupervised.py:342: RuntimeWarning: divide by zero encountered in true_divide\n",
      "  score = (intra_dists[:, None] + intra_dists) / centroid_distances\n"
     ]
    },
    {
     "name": "stdout",
     "output_type": "stream",
     "text": [
      "| \u001b[0m 7       \u001b[0m | \u001b[0m 1.316   \u001b[0m | \u001b[0m 13.0    \u001b[0m | \u001b[0m 5.0     \u001b[0m |\n"
     ]
    },
    {
     "name": "stderr",
     "output_type": "stream",
     "text": [
      "/anaconda3/envs/py37/lib/python3.6/site-packages/sklearn/metrics/cluster/unsupervised.py:342: RuntimeWarning: divide by zero encountered in true_divide\n",
      "  score = (intra_dists[:, None] + intra_dists) / centroid_distances\n"
     ]
    },
    {
     "name": "stdout",
     "output_type": "stream",
     "text": [
      "| \u001b[0m 8       \u001b[0m | \u001b[0m 1.332   \u001b[0m | \u001b[0m 7.0     \u001b[0m | \u001b[0m 30.0    \u001b[0m |\n"
     ]
    },
    {
     "name": "stderr",
     "output_type": "stream",
     "text": [
      "/anaconda3/envs/py37/lib/python3.6/site-packages/sklearn/metrics/cluster/unsupervised.py:342: RuntimeWarning: divide by zero encountered in true_divide\n",
      "  score = (intra_dists[:, None] + intra_dists) / centroid_distances\n"
     ]
    },
    {
     "name": "stdout",
     "output_type": "stream",
     "text": [
      "| \u001b[0m 9       \u001b[0m | \u001b[0m 1.319   \u001b[0m | \u001b[0m 7.0     \u001b[0m | \u001b[0m 11.63   \u001b[0m |\n"
     ]
    },
    {
     "name": "stderr",
     "output_type": "stream",
     "text": [
      "/anaconda3/envs/py37/lib/python3.6/site-packages/sklearn/metrics/cluster/unsupervised.py:342: RuntimeWarning: divide by zero encountered in true_divide\n",
      "  score = (intra_dists[:, None] + intra_dists) / centroid_distances\n"
     ]
    },
    {
     "name": "stdout",
     "output_type": "stream",
     "text": [
      "| \u001b[0m 10      \u001b[0m | \u001b[0m 1.376   \u001b[0m | \u001b[0m 13.0    \u001b[0m | \u001b[0m 30.0    \u001b[0m |\n"
     ]
    },
    {
     "name": "stderr",
     "output_type": "stream",
     "text": [
      "/anaconda3/envs/py37/lib/python3.6/site-packages/sklearn/metrics/cluster/unsupervised.py:342: RuntimeWarning: divide by zero encountered in true_divide\n",
      "  score = (intra_dists[:, None] + intra_dists) / centroid_distances\n"
     ]
    },
    {
     "name": "stdout",
     "output_type": "stream",
     "text": [
      "| \u001b[95m 11      \u001b[0m | \u001b[95m 1.465   \u001b[0m | \u001b[95m 13.0    \u001b[0m | \u001b[95m 14.77   \u001b[0m |\n"
     ]
    },
    {
     "name": "stderr",
     "output_type": "stream",
     "text": [
      "/anaconda3/envs/py37/lib/python3.6/site-packages/sklearn/metrics/cluster/unsupervised.py:342: RuntimeWarning: divide by zero encountered in true_divide\n",
      "  score = (intra_dists[:, None] + intra_dists) / centroid_distances\n"
     ]
    },
    {
     "name": "stdout",
     "output_type": "stream",
     "text": [
      "| \u001b[0m 12      \u001b[0m | \u001b[0m 1.37    \u001b[0m | \u001b[0m 13.0    \u001b[0m | \u001b[0m 17.23   \u001b[0m |\n"
     ]
    },
    {
     "name": "stderr",
     "output_type": "stream",
     "text": [
      "/anaconda3/envs/py37/lib/python3.6/site-packages/sklearn/metrics/cluster/unsupervised.py:342: RuntimeWarning: divide by zero encountered in true_divide\n",
      "  score = (intra_dists[:, None] + intra_dists) / centroid_distances\n"
     ]
    },
    {
     "name": "stdout",
     "output_type": "stream",
     "text": [
      "| \u001b[0m 13      \u001b[0m | \u001b[0m 1.414   \u001b[0m | \u001b[0m 13.0    \u001b[0m | \u001b[0m 11.87   \u001b[0m |\n"
     ]
    },
    {
     "name": "stderr",
     "output_type": "stream",
     "text": [
      "/anaconda3/envs/py37/lib/python3.6/site-packages/sklearn/metrics/cluster/unsupervised.py:342: RuntimeWarning: divide by zero encountered in true_divide\n",
      "  score = (intra_dists[:, None] + intra_dists) / centroid_distances\n"
     ]
    },
    {
     "name": "stdout",
     "output_type": "stream",
     "text": [
      "| \u001b[0m 14      \u001b[0m | \u001b[0m 1.345   \u001b[0m | \u001b[0m 10.21   \u001b[0m | \u001b[0m 15.1    \u001b[0m |\n"
     ]
    },
    {
     "name": "stderr",
     "output_type": "stream",
     "text": [
      "/anaconda3/envs/py37/lib/python3.6/site-packages/sklearn/metrics/cluster/unsupervised.py:342: RuntimeWarning: divide by zero encountered in true_divide\n",
      "  score = (intra_dists[:, None] + intra_dists) / centroid_distances\n"
     ]
    },
    {
     "name": "stdout",
     "output_type": "stream",
     "text": [
      "| \u001b[0m 15      \u001b[0m | \u001b[0m 1.437   \u001b[0m | \u001b[0m 13.0    \u001b[0m | \u001b[0m 13.84   \u001b[0m |\n",
      "=================================================\n",
      "Final result: {'target': 1.465110481155558, 'params': {'EPS': 13.0, 'min_samp': 14.774703011985011}}\n",
      "1237\n",
      "Done\n"
     ]
    }
   ],
   "source": [
    "#cluster the rain events with dbscan\n",
    "#use bayesian optimization to find the best parameters\n",
    "Opt = optimize_dbscan(Xdata[0:20000,:],'davies') #it seems like silhouette takes substantially longer?\n",
    "min_samps = int(Opt['params']['min_samp'])\n",
    "eps = Opt['params']['EPS']\n",
    "\n",
    "#fit the model with the 'best' parameters\n",
    "model = DBSCAN(eps=eps, min_samples=min_samps)\n",
    "model.fit(Xdata[0:500000,:])\n",
    "\n",
    "labels = model.labels_\n",
    "n_clusters_ = len(set(labels)) - (1 if -1 in labels else 0)\n",
    "print(n_clusters_)\n",
    "print('Done')\n",
    "\n",
    "#plot the data clustered together\n",
    "test = Xdata[0:500000,:] \n"
   ]
  },
  {
   "cell_type": "code",
   "execution_count": 190,
   "metadata": {},
   "outputs": [
    {
     "data": {
      "text/plain": [
       "<matplotlib.collections.PathCollection at 0x1a43bdf438>"
      ]
     },
     "execution_count": 190,
     "metadata": {},
     "output_type": "execute_result"
    },
    {
     "data": {
      "image/png": "[encoded data removed]",
      "text/plain": [
       "<Figure size 432x288 with 1 Axes>"
      ]
     },
     "metadata": {
      "needs_background": "light"
     },
     "output_type": "display_data"
    }
   ],
   "source": [
    "#Look at the time ranges overwhich each cluster extends to see if the time metric is scaled properly\n",
    "plt.scatter(labels,test[:,2])"
   ]
  },
  {
   "cell_type": "code",
   "execution_count": 192,
   "metadata": {},
   "outputs": [
    {
     "data": {
      "text/plain": [
       "(array([[202., 135.,  29.,   2.,   0.,   0.,   0.,   0.,   0.,   0.],\n",
       "        [ 30., 203., 157.,  33.,   8.,   3.,   0.,   1.,   0.,   0.],\n",
       "        [  1.,  20.,  54.,  55.,  26.,  19.,   7.,   3.,   0.,   0.],\n",
       "        [  0.,   1.,  10.,  21.,  16.,  19.,  18.,   3.,   2.,   2.],\n",
       "        [  0.,   0.,   1.,   9.,   7.,   8.,  11.,   6.,   6.,   9.],\n",
       "        [  0.,   0.,   3.,   4.,  11.,  15.,  15.,  12.,   6.,  18.],\n",
       "        [  0.,   0.,   0.,   0.,   0.,   2.,   2.,   1.,   1.,   2.],\n",
       "        [  0.,   0.,   0.,   0.,   0.,   0.,   1.,   1.,   0.,   1.],\n",
       "        [  0.,   0.,   0.,   0.,   0.,   0.,   0.,   0.,   0.,   3.],\n",
       "        [  0.,   0.,   0.,   0.,   0.,   0.,   0.,   0.,   0.,   2.]]),\n",
       " array([ 0.25      ,  5.60499992, 10.95999985, 16.31499977, 21.66999969,\n",
       "        27.02499962, 32.37999954, 37.73499947, 43.08999939, 48.44499931,\n",
       "        53.79999924]),\n",
       " array([ 0.5 ,  6.25, 12.  , 17.75, 23.5 , 29.25, 35.  , 40.75, 46.5 ,\n",
       "        52.25, 58.  ]),\n",
       " <matplotlib.collections.QuadMesh at 0x1a433ac2b0>)"
      ]
     },
     "execution_count": 192,
     "metadata": {},
     "output_type": "execute_result"
    },
    {
     "data": {
      "image/png": "[encoded data removed]",
      "text/plain": [
       "<Figure size 432x288 with 1 Axes>"
      ]
     },
     "metadata": {
      "needs_background": "light"
     },
     "output_type": "display_data"
    }
   ],
   "source": [
    "cluster_spans = np.zeros((3,n_clusters_))\n",
    "for i in range(n_clusters_):\n",
    "    cluster = test[labels==i,:]\n",
    "    cluster_spans[:,i] = np.amax(cluster,axis=0)-np.amin(cluster,axis=0)\n",
    "    \n",
    "plt.hist2d(cluster_spans[0,:]/2,cluster_spans[1,:]/2)\n",
    "#plt.hist(cluster_spans[2,:])"
   ]
  },
  {
   "cell_type": "code",
   "execution_count": 194,
   "metadata": {},
   "outputs": [
    {
     "data": {
      "image/png": "[encoded data removed]",
      "text/plain": [
       "<Figure size 864x432 with 1 Axes>"
      ]
     },
     "metadata": {},
     "output_type": "display_data"
    }
   ],
   "source": [
    "#region overwhich to show the plot\n",
    "bbox = [np.min(Latitude),np.max(Latitude),\n",
    "        np.min(Longitude)-50,np.max(Longitude)+50]\n",
    "\n",
    "plt.figure(figsize=(12,6))\n",
    "# Define the projection, scale, the corners of the map, and the resolution.\n",
    "m = Basemap(projection='merc',llcrnrlat=bbox[0],urcrnrlat=bbox[1],\\\n",
    "            llcrnrlon=bbox[2],urcrnrlon=bbox[3],lat_ts=10,resolution='i')\n",
    "cmap = plt.get_cmap('gist_earth')\n",
    "\n",
    "# Draw coastlines and fill continents and water with color\n",
    "m.drawcoastlines()\n",
    "\n",
    "#look at the clusters within the range labels_min to labels_max\n",
    "labels_min = np.min(labels)+7\n",
    "labels_max = 10\n",
    "\n",
    "#plot the location of rain for the individual clusters (colored by cluster)\n",
    "for ii in range(labels_min,labels_max):\n",
    "    cluster = test[labels==ii]\n",
    "    x,y = m(cluster[:,1]/2,cluster[:,0]/2)\n",
    "    color_interp = np.interp(ii,[labels_min,labels_max],[0,200])\n",
    "    plt.scatter(x,y,40,marker='o',color=cmap(int(color_interp)))\n",
    "\n"
   ]
  },
  {
   "cell_type": "code",
   "execution_count": 15,
   "metadata": {},
   "outputs": [],
   "source": [
    "#Initial playing around with ML clustering by profiles of heating and rain rate\n",
    "\n",
    "#combine the latent heat and rain rate at surface together for training data\n",
    "Xdata = np.concatenate((LH,SR.reshape(len(SR),1)),axis = 1)\n",
    "Xdata = Xdata[np.where(SR>5),:]\n",
    "Xdata = np.squeeze(Xdata)\n",
    "\n",
    "#normalize the data to a zero to one scale\n",
    "MIN = np.min(Xdata,axis=0)\n",
    "MAX = np.max(Xdata,axis=0)\n",
    "np.seterr(divide='ignore', invalid='ignore')\n",
    "Xdata_scaled = np.subtract(Xdata,MIN)\n",
    "Xdata_scaled = np.divide(Xdata_scaled,MAX-MIN)\n",
    "#Xdata_scaled[np.isnan(Xdata_scaled)] = 0"
   ]
  },
  {
   "cell_type": "code",
   "execution_count": 18,
   "metadata": {},
   "outputs": [
    {
     "name": "stdout",
     "output_type": "stream",
     "text": [
      "1\n",
      "Done\n"
     ]
    }
   ],
   "source": [
    "#Playing around with fitting a dbscan on the profiles of LH and surface rain\n",
    "model = DBSCAN(eps=.05, min_samples=100)\n",
    "model.fit(Xdata_scaled[0:10000,:])\n",
    "\n",
    "labels = model.labels_\n",
    "n_clusters_ = len(set(labels)) - (1 if -1 in labels else 0)\n",
    "print(n_clusters_)\n",
    "print('Done')\n"
   ]
  },
  {
   "cell_type": "code",
   "execution_count": 19,
   "metadata": {},
   "outputs": [
    {
     "name": "stdout",
     "output_type": "stream",
     "text": [
      "(568, 20)\n",
      "(9432, 20)\n"
     ]
    },
    {
     "data": {
      "text/plain": [
       "[<matplotlib.lines.Line2D at 0x11737e6d8>,\n",
       " <matplotlib.lines.Line2D at 0x11737e828>,\n",
       " <matplotlib.lines.Line2D at 0x11737e978>,\n",
       " <matplotlib.lines.Line2D at 0x11737eac8>,\n",
       " <matplotlib.lines.Line2D at 0x11737ec18>,\n",
       " <matplotlib.lines.Line2D at 0x11737ed68>,\n",
       " <matplotlib.lines.Line2D at 0x11737eeb8>,\n",
       " <matplotlib.lines.Line2D at 0x11735e048>,\n",
       " <matplotlib.lines.Line2D at 0x11735e198>,\n",
       " <matplotlib.lines.Line2D at 0x11735e2e8>,\n",
       " <matplotlib.lines.Line2D at 0x108c48400>,\n",
       " <matplotlib.lines.Line2D at 0x11735e550>,\n",
       " <matplotlib.lines.Line2D at 0x11735e6a0>,\n",
       " <matplotlib.lines.Line2D at 0x11735e7f0>,\n",
       " <matplotlib.lines.Line2D at 0x11735e940>,\n",
       " <matplotlib.lines.Line2D at 0x11735ea90>,\n",
       " <matplotlib.lines.Line2D at 0x11735ebe0>,\n",
       " <matplotlib.lines.Line2D at 0x11735ed30>,\n",
       " <matplotlib.lines.Line2D at 0x11735ee80>,\n",
       " <matplotlib.lines.Line2D at 0x11735efd0>,\n",
       " <matplotlib.lines.Line2D at 0x117370160>,\n",
       " <matplotlib.lines.Line2D at 0x1173702b0>,\n",
       " <matplotlib.lines.Line2D at 0x117370400>,\n",
       " <matplotlib.lines.Line2D at 0x117370550>,\n",
       " <matplotlib.lines.Line2D at 0x1173706a0>,\n",
       " <matplotlib.lines.Line2D at 0x1173707f0>,\n",
       " <matplotlib.lines.Line2D at 0x117370940>,\n",
       " <matplotlib.lines.Line2D at 0x117370a90>,\n",
       " <matplotlib.lines.Line2D at 0x117370be0>,\n",
       " <matplotlib.lines.Line2D at 0x117370d30>,\n",
       " <matplotlib.lines.Line2D at 0x117370e80>,\n",
       " <matplotlib.lines.Line2D at 0x117370fd0>,\n",
       " <matplotlib.lines.Line2D at 0x11735a160>,\n",
       " <matplotlib.lines.Line2D at 0x11735a2b0>,\n",
       " <matplotlib.lines.Line2D at 0x11735a400>,\n",
       " <matplotlib.lines.Line2D at 0x11735a550>,\n",
       " <matplotlib.lines.Line2D at 0x11735a6a0>,\n",
       " <matplotlib.lines.Line2D at 0x11735a7f0>,\n",
       " <matplotlib.lines.Line2D at 0x11735a940>,\n",
       " <matplotlib.lines.Line2D at 0x11735aa90>,\n",
       " <matplotlib.lines.Line2D at 0x11735abe0>,\n",
       " <matplotlib.lines.Line2D at 0x11735ad30>,\n",
       " <matplotlib.lines.Line2D at 0x11735ae80>,\n",
       " <matplotlib.lines.Line2D at 0x11735afd0>,\n",
       " <matplotlib.lines.Line2D at 0x11734c160>,\n",
       " <matplotlib.lines.Line2D at 0x11734c2b0>,\n",
       " <matplotlib.lines.Line2D at 0x11734c400>,\n",
       " <matplotlib.lines.Line2D at 0x11734c550>,\n",
       " <matplotlib.lines.Line2D at 0x11734c6a0>,\n",
       " <matplotlib.lines.Line2D at 0x11734c7f0>,\n",
       " <matplotlib.lines.Line2D at 0x11734c940>,\n",
       " <matplotlib.lines.Line2D at 0x11734ca90>,\n",
       " <matplotlib.lines.Line2D at 0x11734cbe0>,\n",
       " <matplotlib.lines.Line2D at 0x11734cd30>,\n",
       " <matplotlib.lines.Line2D at 0x11734ce80>,\n",
       " <matplotlib.lines.Line2D at 0x11734cfd0>,\n",
       " <matplotlib.lines.Line2D at 0x11735f160>,\n",
       " <matplotlib.lines.Line2D at 0x11735f2b0>,\n",
       " <matplotlib.lines.Line2D at 0x11735f400>,\n",
       " <matplotlib.lines.Line2D at 0x11735f550>,\n",
       " <matplotlib.lines.Line2D at 0x11735f6a0>,\n",
       " <matplotlib.lines.Line2D at 0x11735f7f0>,\n",
       " <matplotlib.lines.Line2D at 0x11735f940>,\n",
       " <matplotlib.lines.Line2D at 0x11735fa90>,\n",
       " <matplotlib.lines.Line2D at 0x11735fbe0>,\n",
       " <matplotlib.lines.Line2D at 0x11735fd30>,\n",
       " <matplotlib.lines.Line2D at 0x11735fe80>,\n",
       " <matplotlib.lines.Line2D at 0x11735ffd0>,\n",
       " <matplotlib.lines.Line2D at 0x120769160>,\n",
       " <matplotlib.lines.Line2D at 0x1207692b0>,\n",
       " <matplotlib.lines.Line2D at 0x120769400>,\n",
       " <matplotlib.lines.Line2D at 0x120769550>,\n",
       " <matplotlib.lines.Line2D at 0x1207696a0>,\n",
       " <matplotlib.lines.Line2D at 0x1207697f0>,\n",
       " <matplotlib.lines.Line2D at 0x120769940>,\n",
       " <matplotlib.lines.Line2D at 0x120769a90>,\n",
       " <matplotlib.lines.Line2D at 0x120769be0>,\n",
       " <matplotlib.lines.Line2D at 0x120769d30>,\n",
       " <matplotlib.lines.Line2D at 0x120769e80>,\n",
       " <matplotlib.lines.Line2D at 0x120769fd0>,\n",
       " <matplotlib.lines.Line2D at 0x120770160>,\n",
       " <matplotlib.lines.Line2D at 0x1207702b0>,\n",
       " <matplotlib.lines.Line2D at 0x120770400>,\n",
       " <matplotlib.lines.Line2D at 0x120770550>,\n",
       " <matplotlib.lines.Line2D at 0x1207706a0>,\n",
       " <matplotlib.lines.Line2D at 0x1207707f0>,\n",
       " <matplotlib.lines.Line2D at 0x120770940>,\n",
       " <matplotlib.lines.Line2D at 0x120770a90>,\n",
       " <matplotlib.lines.Line2D at 0x120770be0>,\n",
       " <matplotlib.lines.Line2D at 0x120770d30>,\n",
       " <matplotlib.lines.Line2D at 0x120770e80>,\n",
       " <matplotlib.lines.Line2D at 0x120770fd0>,\n",
       " <matplotlib.lines.Line2D at 0x12076c160>,\n",
       " <matplotlib.lines.Line2D at 0x12076c2b0>,\n",
       " <matplotlib.lines.Line2D at 0x12076c400>,\n",
       " <matplotlib.lines.Line2D at 0x12076c550>,\n",
       " <matplotlib.lines.Line2D at 0x12076c6a0>,\n",
       " <matplotlib.lines.Line2D at 0x12076c7f0>,\n",
       " <matplotlib.lines.Line2D at 0x12076c940>,\n",
       " <matplotlib.lines.Line2D at 0x12076ca90>,\n",
       " <matplotlib.lines.Line2D at 0x12076cbe0>,\n",
       " <matplotlib.lines.Line2D at 0x12076cd30>,\n",
       " <matplotlib.lines.Line2D at 0x12076ce80>,\n",
       " <matplotlib.lines.Line2D at 0x12076cfd0>,\n",
       " <matplotlib.lines.Line2D at 0x12078c160>,\n",
       " <matplotlib.lines.Line2D at 0x12078c2b0>,\n",
       " <matplotlib.lines.Line2D at 0x12078c400>,\n",
       " <matplotlib.lines.Line2D at 0x12078c550>,\n",
       " <matplotlib.lines.Line2D at 0x12078c6a0>,\n",
       " <matplotlib.lines.Line2D at 0x12078c7f0>,\n",
       " <matplotlib.lines.Line2D at 0x12078c940>,\n",
       " <matplotlib.lines.Line2D at 0x12078ca90>,\n",
       " <matplotlib.lines.Line2D at 0x12078cbe0>,\n",
       " <matplotlib.lines.Line2D at 0x12078cd30>,\n",
       " <matplotlib.lines.Line2D at 0x12078ce80>,\n",
       " <matplotlib.lines.Line2D at 0x12078cfd0>,\n",
       " <matplotlib.lines.Line2D at 0x120778160>,\n",
       " <matplotlib.lines.Line2D at 0x1207782b0>,\n",
       " <matplotlib.lines.Line2D at 0x120778400>,\n",
       " <matplotlib.lines.Line2D at 0x120778550>,\n",
       " <matplotlib.lines.Line2D at 0x1207786a0>,\n",
       " <matplotlib.lines.Line2D at 0x1207787f0>,\n",
       " <matplotlib.lines.Line2D at 0x120778940>,\n",
       " <matplotlib.lines.Line2D at 0x120778a90>,\n",
       " <matplotlib.lines.Line2D at 0x120778be0>,\n",
       " <matplotlib.lines.Line2D at 0x120778d30>,\n",
       " <matplotlib.lines.Line2D at 0x120778e80>,\n",
       " <matplotlib.lines.Line2D at 0x120778fd0>,\n",
       " <matplotlib.lines.Line2D at 0x120791160>,\n",
       " <matplotlib.lines.Line2D at 0x1207912b0>,\n",
       " <matplotlib.lines.Line2D at 0x120791400>,\n",
       " <matplotlib.lines.Line2D at 0x120791550>,\n",
       " <matplotlib.lines.Line2D at 0x1207916a0>,\n",
       " <matplotlib.lines.Line2D at 0x1207917f0>,\n",
       " <matplotlib.lines.Line2D at 0x120791940>,\n",
       " <matplotlib.lines.Line2D at 0x120791a90>,\n",
       " <matplotlib.lines.Line2D at 0x120791be0>,\n",
       " <matplotlib.lines.Line2D at 0x120791d30>,\n",
       " <matplotlib.lines.Line2D at 0x120791e80>,\n",
       " <matplotlib.lines.Line2D at 0x120791fd0>,\n",
       " <matplotlib.lines.Line2D at 0x1207a0160>,\n",
       " <matplotlib.lines.Line2D at 0x1207a02b0>,\n",
       " <matplotlib.lines.Line2D at 0x1207a0400>,\n",
       " <matplotlib.lines.Line2D at 0x1207a0550>,\n",
       " <matplotlib.lines.Line2D at 0x1207a06a0>,\n",
       " <matplotlib.lines.Line2D at 0x1207a07f0>,\n",
       " <matplotlib.lines.Line2D at 0x1207a0940>,\n",
       " <matplotlib.lines.Line2D at 0x1207a0a90>,\n",
       " <matplotlib.lines.Line2D at 0x1207a0be0>,\n",
       " <matplotlib.lines.Line2D at 0x1207a0d30>,\n",
       " <matplotlib.lines.Line2D at 0x1207a0e80>,\n",
       " <matplotlib.lines.Line2D at 0x1207a0fd0>,\n",
       " <matplotlib.lines.Line2D at 0x1207a7160>,\n",
       " <matplotlib.lines.Line2D at 0x1207a72b0>,\n",
       " <matplotlib.lines.Line2D at 0x1207a7400>,\n",
       " <matplotlib.lines.Line2D at 0x1207a7550>,\n",
       " <matplotlib.lines.Line2D at 0x1207a76a0>,\n",
       " <matplotlib.lines.Line2D at 0x1207a77f0>,\n",
       " <matplotlib.lines.Line2D at 0x1207a7940>,\n",
       " <matplotlib.lines.Line2D at 0x1207a7a90>,\n",
       " <matplotlib.lines.Line2D at 0x1207a7be0>,\n",
       " <matplotlib.lines.Line2D at 0x1207a7d30>,\n",
       " <matplotlib.lines.Line2D at 0x1207a7e80>,\n",
       " <matplotlib.lines.Line2D at 0x1207a7fd0>,\n",
       " <matplotlib.lines.Line2D at 0x1207a1160>,\n",
       " <matplotlib.lines.Line2D at 0x1207a12b0>,\n",
       " <matplotlib.lines.Line2D at 0x1207a1400>,\n",
       " <matplotlib.lines.Line2D at 0x1207a1550>,\n",
       " <matplotlib.lines.Line2D at 0x1207a16a0>,\n",
       " <matplotlib.lines.Line2D at 0x1207a17f0>,\n",
       " <matplotlib.lines.Line2D at 0x1207a1940>,\n",
       " <matplotlib.lines.Line2D at 0x1207a1a90>,\n",
       " <matplotlib.lines.Line2D at 0x1207a1be0>,\n",
       " <matplotlib.lines.Line2D at 0x1207a1d30>,\n",
       " <matplotlib.lines.Line2D at 0x1207a1e80>,\n",
       " <matplotlib.lines.Line2D at 0x1207a1fd0>,\n",
       " <matplotlib.lines.Line2D at 0x120796160>,\n",
       " <matplotlib.lines.Line2D at 0x1207962b0>,\n",
       " <matplotlib.lines.Line2D at 0x120796400>,\n",
       " <matplotlib.lines.Line2D at 0x120796550>,\n",
       " <matplotlib.lines.Line2D at 0x1207966a0>,\n",
       " <matplotlib.lines.Line2D at 0x1207967f0>,\n",
       " <matplotlib.lines.Line2D at 0x120796940>,\n",
       " <matplotlib.lines.Line2D at 0x120796a90>,\n",
       " <matplotlib.lines.Line2D at 0x120796be0>,\n",
       " <matplotlib.lines.Line2D at 0x120796d30>,\n",
       " <matplotlib.lines.Line2D at 0x120796e80>,\n",
       " <matplotlib.lines.Line2D at 0x120796fd0>,\n",
       " <matplotlib.lines.Line2D at 0x12079b160>,\n",
       " <matplotlib.lines.Line2D at 0x12079b2b0>,\n",
       " <matplotlib.lines.Line2D at 0x12079b400>,\n",
       " <matplotlib.lines.Line2D at 0x12079b550>,\n",
       " <matplotlib.lines.Line2D at 0x12079b6a0>,\n",
       " <matplotlib.lines.Line2D at 0x12079b7f0>,\n",
       " <matplotlib.lines.Line2D at 0x12079b940>,\n",
       " <matplotlib.lines.Line2D at 0x12079ba90>,\n",
       " <matplotlib.lines.Line2D at 0x12079bbe0>,\n",
       " <matplotlib.lines.Line2D at 0x12079bd30>,\n",
       " <matplotlib.lines.Line2D at 0x12079be80>,\n",
       " <matplotlib.lines.Line2D at 0x12079bfd0>,\n",
       " <matplotlib.lines.Line2D at 0x1207a3160>,\n",
       " <matplotlib.lines.Line2D at 0x1207a32b0>,\n",
       " <matplotlib.lines.Line2D at 0x1207a3400>,\n",
       " <matplotlib.lines.Line2D at 0x1207a3550>,\n",
       " <matplotlib.lines.Line2D at 0x1207a36a0>,\n",
       " <matplotlib.lines.Line2D at 0x1207a37f0>,\n",
       " <matplotlib.lines.Line2D at 0x1207a3940>,\n",
       " <matplotlib.lines.Line2D at 0x1207a3a90>,\n",
       " <matplotlib.lines.Line2D at 0x1207a3be0>,\n",
       " <matplotlib.lines.Line2D at 0x1207a3d30>,\n",
       " <matplotlib.lines.Line2D at 0x1207a3e80>,\n",
       " <matplotlib.lines.Line2D at 0x1207a3fd0>,\n",
       " <matplotlib.lines.Line2D at 0x11b4f3160>,\n",
       " <matplotlib.lines.Line2D at 0x11b4f32b0>,\n",
       " <matplotlib.lines.Line2D at 0x11b4f3400>,\n",
       " <matplotlib.lines.Line2D at 0x11b4f3550>,\n",
       " <matplotlib.lines.Line2D at 0x11b4f36a0>,\n",
       " <matplotlib.lines.Line2D at 0x11b4f37f0>,\n",
       " <matplotlib.lines.Line2D at 0x11b4f3940>,\n",
       " <matplotlib.lines.Line2D at 0x11b4f3a90>,\n",
       " <matplotlib.lines.Line2D at 0x11b4f3be0>,\n",
       " <matplotlib.lines.Line2D at 0x11b4f3d30>,\n",
       " <matplotlib.lines.Line2D at 0x11b4f3e80>,\n",
       " <matplotlib.lines.Line2D at 0x11b4f3fd0>,\n",
       " <matplotlib.lines.Line2D at 0x11b514160>,\n",
       " <matplotlib.lines.Line2D at 0x11b5142b0>,\n",
       " <matplotlib.lines.Line2D at 0x11b514400>,\n",
       " <matplotlib.lines.Line2D at 0x11b514550>,\n",
       " <matplotlib.lines.Line2D at 0x11b5146a0>,\n",
       " <matplotlib.lines.Line2D at 0x11b5147f0>,\n",
       " <matplotlib.lines.Line2D at 0x11b514940>,\n",
       " <matplotlib.lines.Line2D at 0x11b514a90>,\n",
       " <matplotlib.lines.Line2D at 0x11b514be0>,\n",
       " <matplotlib.lines.Line2D at 0x11b514d30>,\n",
       " <matplotlib.lines.Line2D at 0x11b514e80>,\n",
       " <matplotlib.lines.Line2D at 0x11b514fd0>,\n",
       " <matplotlib.lines.Line2D at 0x11b4fa160>,\n",
       " <matplotlib.lines.Line2D at 0x11b4fa2b0>,\n",
       " <matplotlib.lines.Line2D at 0x11b4fa400>,\n",
       " <matplotlib.lines.Line2D at 0x11b4fa550>,\n",
       " <matplotlib.lines.Line2D at 0x11b4fa6a0>,\n",
       " <matplotlib.lines.Line2D at 0x11b4fa7f0>,\n",
       " <matplotlib.lines.Line2D at 0x11b4fa940>,\n",
       " <matplotlib.lines.Line2D at 0x11b4faa90>,\n",
       " <matplotlib.lines.Line2D at 0x11b4fabe0>,\n",
       " <matplotlib.lines.Line2D at 0x11b4fad30>,\n",
       " <matplotlib.lines.Line2D at 0x11b4fae80>,\n",
       " <matplotlib.lines.Line2D at 0x11b4fafd0>,\n",
       " <matplotlib.lines.Line2D at 0x11b515160>,\n",
       " <matplotlib.lines.Line2D at 0x11b5152b0>,\n",
       " <matplotlib.lines.Line2D at 0x11b515400>,\n",
       " <matplotlib.lines.Line2D at 0x11b515550>,\n",
       " <matplotlib.lines.Line2D at 0x11b5156a0>,\n",
       " <matplotlib.lines.Line2D at 0x11b5157f0>,\n",
       " <matplotlib.lines.Line2D at 0x11b515940>,\n",
       " <matplotlib.lines.Line2D at 0x11b515a90>,\n",
       " <matplotlib.lines.Line2D at 0x11b515be0>,\n",
       " <matplotlib.lines.Line2D at 0x11b515d30>,\n",
       " <matplotlib.lines.Line2D at 0x11b515e80>,\n",
       " <matplotlib.lines.Line2D at 0x11b515fd0>,\n",
       " <matplotlib.lines.Line2D at 0x11b506160>,\n",
       " <matplotlib.lines.Line2D at 0x11b5062b0>,\n",
       " <matplotlib.lines.Line2D at 0x11b506400>,\n",
       " <matplotlib.lines.Line2D at 0x11b506550>,\n",
       " <matplotlib.lines.Line2D at 0x11b5066a0>,\n",
       " <matplotlib.lines.Line2D at 0x11b5067f0>,\n",
       " <matplotlib.lines.Line2D at 0x11b506940>,\n",
       " <matplotlib.lines.Line2D at 0x11b506a90>,\n",
       " <matplotlib.lines.Line2D at 0x11b506be0>,\n",
       " <matplotlib.lines.Line2D at 0x11b506d30>,\n",
       " <matplotlib.lines.Line2D at 0x11b506e80>,\n",
       " <matplotlib.lines.Line2D at 0x11b506fd0>,\n",
       " <matplotlib.lines.Line2D at 0x11b4fd160>,\n",
       " <matplotlib.lines.Line2D at 0x11b4fd2b0>,\n",
       " <matplotlib.lines.Line2D at 0x11b4fd400>,\n",
       " <matplotlib.lines.Line2D at 0x11b4fd550>,\n",
       " <matplotlib.lines.Line2D at 0x11b4fd6a0>,\n",
       " <matplotlib.lines.Line2D at 0x11b4fd7f0>,\n",
       " <matplotlib.lines.Line2D at 0x11b4fd940>,\n",
       " <matplotlib.lines.Line2D at 0x11b4fda90>,\n",
       " <matplotlib.lines.Line2D at 0x11b4fdbe0>,\n",
       " <matplotlib.lines.Line2D at 0x11b4fdd30>,\n",
       " <matplotlib.lines.Line2D at 0x11b4fde80>,\n",
       " <matplotlib.lines.Line2D at 0x11b4fdfd0>,\n",
       " <matplotlib.lines.Line2D at 0x11b504160>,\n",
       " <matplotlib.lines.Line2D at 0x11b5042b0>,\n",
       " <matplotlib.lines.Line2D at 0x11b504400>,\n",
       " <matplotlib.lines.Line2D at 0x11b504550>,\n",
       " <matplotlib.lines.Line2D at 0x11b5046a0>,\n",
       " <matplotlib.lines.Line2D at 0x11b5047f0>,\n",
       " <matplotlib.lines.Line2D at 0x11b504940>,\n",
       " <matplotlib.lines.Line2D at 0x11b504a90>,\n",
       " <matplotlib.lines.Line2D at 0x11b504be0>,\n",
       " <matplotlib.lines.Line2D at 0x11b504d30>,\n",
       " <matplotlib.lines.Line2D at 0x11b504e80>,\n",
       " <matplotlib.lines.Line2D at 0x11b504fd0>,\n",
       " <matplotlib.lines.Line2D at 0x11b4ec160>,\n",
       " <matplotlib.lines.Line2D at 0x11b4ec2b0>,\n",
       " <matplotlib.lines.Line2D at 0x11b4ec400>,\n",
       " <matplotlib.lines.Line2D at 0x11b4ec550>,\n",
       " <matplotlib.lines.Line2D at 0x11b4ec6a0>,\n",
       " <matplotlib.lines.Line2D at 0x11b4ec7f0>,\n",
       " <matplotlib.lines.Line2D at 0x11b4ec940>,\n",
       " <matplotlib.lines.Line2D at 0x11b4eca90>,\n",
       " <matplotlib.lines.Line2D at 0x11b4ecbe0>,\n",
       " <matplotlib.lines.Line2D at 0x11b4ecd30>,\n",
       " <matplotlib.lines.Line2D at 0x11b4ece80>,\n",
       " <matplotlib.lines.Line2D at 0x11b4ecfd0>,\n",
       " <matplotlib.lines.Line2D at 0x11b516160>,\n",
       " <matplotlib.lines.Line2D at 0x11b5162b0>,\n",
       " <matplotlib.lines.Line2D at 0x11b516400>,\n",
       " <matplotlib.lines.Line2D at 0x11b516550>,\n",
       " <matplotlib.lines.Line2D at 0x11b5166a0>,\n",
       " <matplotlib.lines.Line2D at 0x11b5167f0>,\n",
       " <matplotlib.lines.Line2D at 0x11b516940>,\n",
       " <matplotlib.lines.Line2D at 0x11b516a90>,\n",
       " <matplotlib.lines.Line2D at 0x11b516be0>,\n",
       " <matplotlib.lines.Line2D at 0x11b516d30>,\n",
       " <matplotlib.lines.Line2D at 0x11b516e80>,\n",
       " <matplotlib.lines.Line2D at 0x11b516fd0>,\n",
       " <matplotlib.lines.Line2D at 0x11b501160>,\n",
       " <matplotlib.lines.Line2D at 0x11b5012b0>,\n",
       " <matplotlib.lines.Line2D at 0x11b501400>,\n",
       " <matplotlib.lines.Line2D at 0x11b501550>,\n",
       " <matplotlib.lines.Line2D at 0x11b5016a0>,\n",
       " <matplotlib.lines.Line2D at 0x11b5017f0>,\n",
       " <matplotlib.lines.Line2D at 0x11b501940>,\n",
       " <matplotlib.lines.Line2D at 0x11b501a90>,\n",
       " <matplotlib.lines.Line2D at 0x11b501be0>,\n",
       " <matplotlib.lines.Line2D at 0x11b501d30>,\n",
       " <matplotlib.lines.Line2D at 0x11b501e80>,\n",
       " <matplotlib.lines.Line2D at 0x11b501fd0>,\n",
       " <matplotlib.lines.Line2D at 0x11b4e9160>,\n",
       " <matplotlib.lines.Line2D at 0x11b4e92b0>,\n",
       " <matplotlib.lines.Line2D at 0x11b4e9400>,\n",
       " <matplotlib.lines.Line2D at 0x11b4e9550>,\n",
       " <matplotlib.lines.Line2D at 0x11b4e96a0>,\n",
       " <matplotlib.lines.Line2D at 0x11b4e97f0>,\n",
       " <matplotlib.lines.Line2D at 0x11b4e9940>,\n",
       " <matplotlib.lines.Line2D at 0x11b4e9a90>,\n",
       " <matplotlib.lines.Line2D at 0x11b4e9be0>,\n",
       " <matplotlib.lines.Line2D at 0x11b4e9d30>,\n",
       " <matplotlib.lines.Line2D at 0x11b4e9e80>,\n",
       " <matplotlib.lines.Line2D at 0x11b4e9fd0>,\n",
       " <matplotlib.lines.Line2D at 0x1207ab160>,\n",
       " <matplotlib.lines.Line2D at 0x1207ab2b0>,\n",
       " <matplotlib.lines.Line2D at 0x1207ab400>,\n",
       " <matplotlib.lines.Line2D at 0x1207ab550>,\n",
       " <matplotlib.lines.Line2D at 0x1207ab6a0>,\n",
       " <matplotlib.lines.Line2D at 0x1207ab7f0>,\n",
       " <matplotlib.lines.Line2D at 0x1207ab940>,\n",
       " <matplotlib.lines.Line2D at 0x1207aba90>,\n",
       " <matplotlib.lines.Line2D at 0x1207abbe0>,\n",
       " <matplotlib.lines.Line2D at 0x1207abd30>,\n",
       " <matplotlib.lines.Line2D at 0x1207abe80>,\n",
       " <matplotlib.lines.Line2D at 0x1207abfd0>,\n",
       " <matplotlib.lines.Line2D at 0x1207b7160>,\n",
       " <matplotlib.lines.Line2D at 0x1207b72b0>,\n",
       " <matplotlib.lines.Line2D at 0x1207b7400>,\n",
       " <matplotlib.lines.Line2D at 0x1207b7550>,\n",
       " <matplotlib.lines.Line2D at 0x1207b76a0>,\n",
       " <matplotlib.lines.Line2D at 0x1207b77f0>,\n",
       " <matplotlib.lines.Line2D at 0x1207b7940>,\n",
       " <matplotlib.lines.Line2D at 0x1207b7a90>,\n",
       " <matplotlib.lines.Line2D at 0x1207b7be0>,\n",
       " <matplotlib.lines.Line2D at 0x1207b7d30>,\n",
       " <matplotlib.lines.Line2D at 0x1207b7e80>,\n",
       " <matplotlib.lines.Line2D at 0x1207b7fd0>,\n",
       " <matplotlib.lines.Line2D at 0x1207bf160>,\n",
       " <matplotlib.lines.Line2D at 0x1207bf2b0>,\n",
       " <matplotlib.lines.Line2D at 0x1207bf400>,\n",
       " <matplotlib.lines.Line2D at 0x1207bf550>,\n",
       " <matplotlib.lines.Line2D at 0x1207bf6a0>,\n",
       " <matplotlib.lines.Line2D at 0x1207bf7f0>,\n",
       " <matplotlib.lines.Line2D at 0x1207bf940>,\n",
       " <matplotlib.lines.Line2D at 0x1207bfa90>,\n",
       " <matplotlib.lines.Line2D at 0x1207bfbe0>,\n",
       " <matplotlib.lines.Line2D at 0x1207bfd30>,\n",
       " <matplotlib.lines.Line2D at 0x1207bfe80>,\n",
       " <matplotlib.lines.Line2D at 0x1207bffd0>,\n",
       " <matplotlib.lines.Line2D at 0x1207b4160>,\n",
       " <matplotlib.lines.Line2D at 0x1207b42b0>,\n",
       " <matplotlib.lines.Line2D at 0x1207b4400>,\n",
       " <matplotlib.lines.Line2D at 0x1207b4550>,\n",
       " <matplotlib.lines.Line2D at 0x1207b46a0>,\n",
       " <matplotlib.lines.Line2D at 0x1207b47f0>,\n",
       " <matplotlib.lines.Line2D at 0x1207b4940>,\n",
       " <matplotlib.lines.Line2D at 0x1207b4a90>,\n",
       " <matplotlib.lines.Line2D at 0x1207b4be0>,\n",
       " <matplotlib.lines.Line2D at 0x1207b4d30>,\n",
       " <matplotlib.lines.Line2D at 0x1207b4e80>,\n",
       " <matplotlib.lines.Line2D at 0x1207b4fd0>,\n",
       " <matplotlib.lines.Line2D at 0x1207b2160>,\n",
       " <matplotlib.lines.Line2D at 0x1207b22b0>,\n",
       " <matplotlib.lines.Line2D at 0x1207b2400>,\n",
       " <matplotlib.lines.Line2D at 0x1207b2550>,\n",
       " <matplotlib.lines.Line2D at 0x1207b26a0>,\n",
       " <matplotlib.lines.Line2D at 0x1207b27f0>,\n",
       " <matplotlib.lines.Line2D at 0x1207b2940>,\n",
       " <matplotlib.lines.Line2D at 0x1207b2a90>,\n",
       " <matplotlib.lines.Line2D at 0x1207b2be0>,\n",
       " <matplotlib.lines.Line2D at 0x1207b2d30>,\n",
       " <matplotlib.lines.Line2D at 0x1207b2e80>,\n",
       " <matplotlib.lines.Line2D at 0x1207b2fd0>,\n",
       " <matplotlib.lines.Line2D at 0x1207c3160>,\n",
       " <matplotlib.lines.Line2D at 0x1207c32b0>,\n",
       " <matplotlib.lines.Line2D at 0x1207c3400>,\n",
       " <matplotlib.lines.Line2D at 0x1207c3550>,\n",
       " <matplotlib.lines.Line2D at 0x1207c36a0>,\n",
       " <matplotlib.lines.Line2D at 0x1207c37f0>,\n",
       " <matplotlib.lines.Line2D at 0x1207c3940>,\n",
       " <matplotlib.lines.Line2D at 0x1207c3a90>,\n",
       " <matplotlib.lines.Line2D at 0x1207c3be0>,\n",
       " <matplotlib.lines.Line2D at 0x1207c3d30>,\n",
       " <matplotlib.lines.Line2D at 0x1207c3e80>,\n",
       " <matplotlib.lines.Line2D at 0x1207c3fd0>,\n",
       " <matplotlib.lines.Line2D at 0x1207d6160>,\n",
       " <matplotlib.lines.Line2D at 0x1207d62b0>,\n",
       " <matplotlib.lines.Line2D at 0x1207d6400>,\n",
       " <matplotlib.lines.Line2D at 0x1207d6550>,\n",
       " <matplotlib.lines.Line2D at 0x1207d66a0>,\n",
       " <matplotlib.lines.Line2D at 0x1207d67f0>,\n",
       " <matplotlib.lines.Line2D at 0x1207d6940>,\n",
       " <matplotlib.lines.Line2D at 0x1207d6a90>,\n",
       " <matplotlib.lines.Line2D at 0x1207d6be0>,\n",
       " <matplotlib.lines.Line2D at 0x1207d6d30>,\n",
       " <matplotlib.lines.Line2D at 0x1207d6e80>,\n",
       " <matplotlib.lines.Line2D at 0x1207d6fd0>,\n",
       " <matplotlib.lines.Line2D at 0x1207ce160>,\n",
       " <matplotlib.lines.Line2D at 0x1207ce2b0>,\n",
       " <matplotlib.lines.Line2D at 0x1207ce400>,\n",
       " <matplotlib.lines.Line2D at 0x1207ce550>,\n",
       " <matplotlib.lines.Line2D at 0x1207ce6a0>,\n",
       " <matplotlib.lines.Line2D at 0x1207ce7f0>,\n",
       " <matplotlib.lines.Line2D at 0x1207ce940>,\n",
       " <matplotlib.lines.Line2D at 0x1207cea90>,\n",
       " <matplotlib.lines.Line2D at 0x1207cebe0>,\n",
       " <matplotlib.lines.Line2D at 0x1207ced30>,\n",
       " <matplotlib.lines.Line2D at 0x1207cee80>,\n",
       " <matplotlib.lines.Line2D at 0x1207cefd0>,\n",
       " <matplotlib.lines.Line2D at 0x1207e0160>,\n",
       " <matplotlib.lines.Line2D at 0x1207e02b0>,\n",
       " <matplotlib.lines.Line2D at 0x1207e0400>,\n",
       " <matplotlib.lines.Line2D at 0x1207e0550>,\n",
       " <matplotlib.lines.Line2D at 0x1207e06a0>,\n",
       " <matplotlib.lines.Line2D at 0x1207e07f0>,\n",
       " <matplotlib.lines.Line2D at 0x1207e0940>,\n",
       " <matplotlib.lines.Line2D at 0x1207e0a90>,\n",
       " <matplotlib.lines.Line2D at 0x1207e0be0>,\n",
       " <matplotlib.lines.Line2D at 0x1207e0d30>,\n",
       " <matplotlib.lines.Line2D at 0x1207e0e80>,\n",
       " <matplotlib.lines.Line2D at 0x1207e0fd0>,\n",
       " <matplotlib.lines.Line2D at 0x1207d2160>,\n",
       " <matplotlib.lines.Line2D at 0x1207d22b0>,\n",
       " <matplotlib.lines.Line2D at 0x1207d2400>,\n",
       " <matplotlib.lines.Line2D at 0x1207d2550>,\n",
       " <matplotlib.lines.Line2D at 0x1207d26a0>,\n",
       " <matplotlib.lines.Line2D at 0x1207d27f0>,\n",
       " <matplotlib.lines.Line2D at 0x1207d2940>,\n",
       " <matplotlib.lines.Line2D at 0x1207d2a90>,\n",
       " <matplotlib.lines.Line2D at 0x1207d2be0>,\n",
       " <matplotlib.lines.Line2D at 0x1207d2d30>,\n",
       " <matplotlib.lines.Line2D at 0x1207d2e80>,\n",
       " <matplotlib.lines.Line2D at 0x1207d2fd0>,\n",
       " <matplotlib.lines.Line2D at 0x1207de160>,\n",
       " <matplotlib.lines.Line2D at 0x1207de2b0>,\n",
       " <matplotlib.lines.Line2D at 0x1207de400>,\n",
       " <matplotlib.lines.Line2D at 0x1207de550>,\n",
       " <matplotlib.lines.Line2D at 0x1207de6a0>,\n",
       " <matplotlib.lines.Line2D at 0x1207de7f0>,\n",
       " <matplotlib.lines.Line2D at 0x1207de940>,\n",
       " <matplotlib.lines.Line2D at 0x1207dea90>,\n",
       " <matplotlib.lines.Line2D at 0x1207debe0>,\n",
       " <matplotlib.lines.Line2D at 0x1207ded30>,\n",
       " <matplotlib.lines.Line2D at 0x1207dee80>,\n",
       " <matplotlib.lines.Line2D at 0x1207defd0>,\n",
       " <matplotlib.lines.Line2D at 0x1207d8160>,\n",
       " <matplotlib.lines.Line2D at 0x1207d82b0>,\n",
       " <matplotlib.lines.Line2D at 0x1207d8400>,\n",
       " <matplotlib.lines.Line2D at 0x1207d8550>,\n",
       " <matplotlib.lines.Line2D at 0x1207d86a0>,\n",
       " <matplotlib.lines.Line2D at 0x1207d87f0>,\n",
       " <matplotlib.lines.Line2D at 0x1207d8940>,\n",
       " <matplotlib.lines.Line2D at 0x1207d8a90>,\n",
       " <matplotlib.lines.Line2D at 0x1207d8be0>,\n",
       " <matplotlib.lines.Line2D at 0x1207d8d30>,\n",
       " <matplotlib.lines.Line2D at 0x1207d8e80>,\n",
       " <matplotlib.lines.Line2D at 0x1207d8fd0>,\n",
       " <matplotlib.lines.Line2D at 0x1207af160>,\n",
       " <matplotlib.lines.Line2D at 0x1207af2b0>,\n",
       " <matplotlib.lines.Line2D at 0x1207af400>,\n",
       " <matplotlib.lines.Line2D at 0x1207af550>,\n",
       " <matplotlib.lines.Line2D at 0x1207af6a0>,\n",
       " <matplotlib.lines.Line2D at 0x1207af7f0>,\n",
       " <matplotlib.lines.Line2D at 0x1207af940>,\n",
       " <matplotlib.lines.Line2D at 0x1207afa90>,\n",
       " <matplotlib.lines.Line2D at 0x1207afbe0>,\n",
       " <matplotlib.lines.Line2D at 0x1207afd30>,\n",
       " <matplotlib.lines.Line2D at 0x1207afe80>,\n",
       " <matplotlib.lines.Line2D at 0x1207affd0>,\n",
       " <matplotlib.lines.Line2D at 0x1175ef160>,\n",
       " <matplotlib.lines.Line2D at 0x1175ef2b0>,\n",
       " <matplotlib.lines.Line2D at 0x1175ef400>,\n",
       " <matplotlib.lines.Line2D at 0x1175ef550>,\n",
       " <matplotlib.lines.Line2D at 0x1175ef6a0>,\n",
       " <matplotlib.lines.Line2D at 0x1175ef7f0>,\n",
       " <matplotlib.lines.Line2D at 0x1175ef940>,\n",
       " <matplotlib.lines.Line2D at 0x1175efa90>,\n",
       " <matplotlib.lines.Line2D at 0x1175efbe0>,\n",
       " <matplotlib.lines.Line2D at 0x1175efd30>,\n",
       " <matplotlib.lines.Line2D at 0x1175efe80>,\n",
       " <matplotlib.lines.Line2D at 0x1175effd0>,\n",
       " <matplotlib.lines.Line2D at 0x1175ba160>,\n",
       " <matplotlib.lines.Line2D at 0x1175ba2b0>,\n",
       " <matplotlib.lines.Line2D at 0x1175ba400>,\n",
       " <matplotlib.lines.Line2D at 0x1175ba550>,\n",
       " <matplotlib.lines.Line2D at 0x1175ba6a0>,\n",
       " <matplotlib.lines.Line2D at 0x1175ba7f0>,\n",
       " <matplotlib.lines.Line2D at 0x1175ba940>,\n",
       " <matplotlib.lines.Line2D at 0x1175baa90>,\n",
       " <matplotlib.lines.Line2D at 0x1175babe0>,\n",
       " <matplotlib.lines.Line2D at 0x1175bad30>,\n",
       " <matplotlib.lines.Line2D at 0x1175bae80>,\n",
       " <matplotlib.lines.Line2D at 0x1175bafd0>,\n",
       " <matplotlib.lines.Line2D at 0x1175b5160>,\n",
       " <matplotlib.lines.Line2D at 0x1175b52b0>,\n",
       " <matplotlib.lines.Line2D at 0x1175b5400>,\n",
       " <matplotlib.lines.Line2D at 0x1175b5550>,\n",
       " <matplotlib.lines.Line2D at 0x1175b56a0>,\n",
       " <matplotlib.lines.Line2D at 0x1175b57f0>,\n",
       " <matplotlib.lines.Line2D at 0x1175b5940>,\n",
       " <matplotlib.lines.Line2D at 0x1175b5a90>,\n",
       " <matplotlib.lines.Line2D at 0x1175b5be0>,\n",
       " <matplotlib.lines.Line2D at 0x1175b5d30>,\n",
       " <matplotlib.lines.Line2D at 0x1175b5e80>,\n",
       " <matplotlib.lines.Line2D at 0x1175b5fd0>,\n",
       " <matplotlib.lines.Line2D at 0x1175b7160>,\n",
       " <matplotlib.lines.Line2D at 0x1175b72b0>,\n",
       " <matplotlib.lines.Line2D at 0x1175b7400>,\n",
       " <matplotlib.lines.Line2D at 0x1175b7550>,\n",
       " <matplotlib.lines.Line2D at 0x1175b76a0>,\n",
       " <matplotlib.lines.Line2D at 0x1175b77f0>,\n",
       " <matplotlib.lines.Line2D at 0x1175b7940>,\n",
       " <matplotlib.lines.Line2D at 0x1175b7a90>,\n",
       " <matplotlib.lines.Line2D at 0x1175b7be0>,\n",
       " <matplotlib.lines.Line2D at 0x1175b7d30>,\n",
       " <matplotlib.lines.Line2D at 0x1175b7e80>,\n",
       " <matplotlib.lines.Line2D at 0x1175b7fd0>,\n",
       " <matplotlib.lines.Line2D at 0x1175c0160>,\n",
       " <matplotlib.lines.Line2D at 0x1175c02b0>,\n",
       " <matplotlib.lines.Line2D at 0x1175c0400>,\n",
       " <matplotlib.lines.Line2D at 0x1175c0550>,\n",
       " <matplotlib.lines.Line2D at 0x1175c06a0>,\n",
       " <matplotlib.lines.Line2D at 0x1175c07f0>,\n",
       " <matplotlib.lines.Line2D at 0x1175c0940>,\n",
       " <matplotlib.lines.Line2D at 0x1175c0a90>,\n",
       " <matplotlib.lines.Line2D at 0x1175c0be0>,\n",
       " <matplotlib.lines.Line2D at 0x1175c0d30>,\n",
       " <matplotlib.lines.Line2D at 0x1175c0e80>,\n",
       " <matplotlib.lines.Line2D at 0x1175c0fd0>,\n",
       " <matplotlib.lines.Line2D at 0x1175cf160>,\n",
       " <matplotlib.lines.Line2D at 0x1175cf2b0>,\n",
       " <matplotlib.lines.Line2D at 0x1175cf400>,\n",
       " <matplotlib.lines.Line2D at 0x1175cf550>,\n",
       " <matplotlib.lines.Line2D at 0x1175cf6a0>,\n",
       " <matplotlib.lines.Line2D at 0x1175cf7f0>,\n",
       " <matplotlib.lines.Line2D at 0x1175cf940>,\n",
       " <matplotlib.lines.Line2D at 0x1175cfa90>]"
      ]
     },
     "execution_count": 19,
     "metadata": {},
     "output_type": "execute_result"
    },
    {
     "data": {
      "image/png": "[encoded data removed]",
      "text/plain": [
       "<Figure size 432x288 with 1 Axes>"
      ]
     },
     "metadata": {
      "needs_background": "light"
     },
     "output_type": "display_data"
    }
   ],
   "source": [
    "#plot the data clustered together\n",
    "test = Xdata_scaled[0:10000,:] \n",
    "\n",
    "#size of clusters\n",
    "print(test[labels==-1,:].shape)\n",
    "print(test[labels==0,:].shape)\n",
    "\n",
    "plt.plot(test[labels==-1,:].T)\n"
   ]
  },
  {
   "cell_type": "code",
   "execution_count": 196,
   "metadata": {},
   "outputs": [
    {
     "name": "stdout",
     "output_type": "stream",
     "text": [
      "[  -6.5        -244.19999695 5111.6725    ]\n",
      "[ -53.79999924 -354.3999939  5101.87777778]\n",
      "[ 47.29999924 110.19999695   9.79472222]\n",
      "[  -6.5        -240.         5110.17333333]\n",
      "[ -30.5        -274.29998779 5100.40055556]\n",
      "[24.         34.29998779  9.77277778]\n"
     ]
    }
   ],
   "source": [
    "TT = test[labels==6,:]\n",
    "print(np.amax(TT,axis=0))\n",
    "print(np.amin(TT,axis=0))\n",
    "\n",
    "print(cluster_spans[:,6])\n",
    "\n",
    "TT = test[labels==5,:]\n",
    "print(np.amax(TT,axis=0))\n",
    "print(np.amin(TT,axis=0))\n",
    "\n",
    "print(cluster_spans[:,5])"
   ]
  },
  {
   "cell_type": "code",
   "execution_count": 237,
   "metadata": {
    "scrolled": true
   },
   "outputs": [
    {
     "name": "stdout",
     "output_type": "stream",
     "text": [
      "9.715277777777374\n",
      "0.021111111111167702\n",
      "9.74638888888876\n",
      "0.03611111111149512\n",
      "6.488888888889051\n",
      "0.0\n"
     ]
    },
    {
     "data": {
      "image/png": "[encoded data removed]",
      "text/plain": [
       "<Figure size 1152x720 with 6 Axes>"
      ]
     },
     "metadata": {},
     "output_type": "display_data"
    }
   ],
   "source": [
    "fig = plt.figure(figsize=(16,10))\n",
    "#fig.subplots_adjust(hspace=0.4, wspace=0.4)\n",
    "for i in range(1, 7):\n",
    "    ax = fig.add_subplot(2, 3, i)\n",
    "    \n",
    "    bbox = [np.min(Latitude),np.max(Latitude),\n",
    "    np.min(Longitude)-25,np.max(Longitude)+25]\n",
    "\n",
    "    m = Basemap(projection='merc',llcrnrlat=bbox[0],urcrnrlat=bbox[1],\\\n",
    "        llcrnrlon=bbox[2],urcrnrlon=bbox[3],lat_ts=10,resolution='i')\n",
    "    cmap = plt.get_cmap('viridis')\n",
    "\n",
    "    # Draw coastlines and fill continents and water with color\n",
    "    m.drawcoastlines()\n",
    "\n",
    "    cluster = test[labels==i+6]\n",
    "    x,y = m(cluster[:,1]/2,cluster[:,0]/2)\n",
    "    timediff = cluster[:,2]-np.amin(cluster[:,2])\n",
    "    print(np.max(timediff))\n",
    "    color_interp = np.interp(timediff,[0,24],[0,200])\n",
    "    ax.scatter(x,y,55,marker='o',c=cmap((color_interp)))\n",
    "    "
   ]
  },
  {
   "cell_type": "code",
   "execution_count": 257,
   "metadata": {},
   "outputs": [
    {
     "name": "stdout",
     "output_type": "stream",
     "text": [
      "0.18252000212669373\n",
      "92.71983337402344\n",
      "9.755833333333612\n"
     ]
    },
    {
     "data": {
      "text/plain": [
       "<matplotlib.collections.PathCollection at 0x1a47991cf8>"
      ]
     },
     "execution_count": 257,
     "metadata": {},
     "output_type": "execute_result"
    },
    {
     "data": {
      "image/png": "[encoded data removed]",
      "text/plain": [
       "<Figure size 864x432 with 1 Axes>"
      ]
     },
     "metadata": {},
     "output_type": "display_data"
    },
    {
     "data": {
      "image/png": "[encoded data removed]",
      "text/plain": [
       "<Figure size 864x432 with 1 Axes>"
      ]
     },
     "metadata": {},
     "output_type": "display_data"
    }
   ],
   "source": [
    "cluster = test[labels==80]\n",
    "x,y = m(cluster[:,1]/2,cluster[:,0]/2)\n",
    "timemin = np.amin(cluster[:,2])\n",
    "timemax = np.amax(cluster[:,2])\n",
    "Xdata = np.concatenate((Latitude.reshape(len(Latitude),1),Longitude.reshape(len(Longitude),1),DeltaTime.reshape(len(DeltaTime),1),SR.reshape(len(SR),1)),axis=1)\n",
    "toplot = np.squeeze(Xdata[np.where(Xdata[:,2]>=timemin),:])\n",
    "toplot = np.squeeze(toplot[np.where(toplot[:,2]<=timemax),:])\n",
    "\n",
    "bbox = [np.min(Latitude),np.max(Latitude),\n",
    "        np.min(Longitude)-25,np.max(Longitude)+25]\n",
    "\n",
    "plt.figure(figsize=(12,6))\n",
    "# Define the projection, scale, the corners of the map, and the resolution.\n",
    "m = Basemap(projection='merc',llcrnrlat=bbox[0],urcrnrlat=bbox[1],\\\n",
    "            llcrnrlon=bbox[2],urcrnrlon=bbox[3],lat_ts=10,resolution='i')\n",
    "cmap = plt.get_cmap('viridis')\n",
    "\n",
    "# Draw coastlines and fill continents and water with color\n",
    "m.drawcoastlines()\n",
    "\n",
    "x,y = m(toplot[:,1],toplot[:,0])\n",
    "timediff = toplot[:,2]-np.amin(toplot[:,2])\n",
    "print(np.min(toplot[:,3]))\n",
    "print(np.max(toplot[:,3]))\n",
    "color_interp = np.interp(toplot[:,3],[0,65],[0,200])\n",
    "plt.scatter(x,y,40,marker='o',color=cmap((color_interp)))\n",
    "\n",
    "plt.figure(figsize=(12,6))\n",
    "# Define the projection, scale, the corners of the map, and the resolution.\n",
    "m = Basemap(projection='merc',llcrnrlat=bbox[0],urcrnrlat=bbox[1],\\\n",
    "            llcrnrlon=bbox[2],urcrnrlon=bbox[3],lat_ts=10,resolution='i')\n",
    "cmap = plt.get_cmap('viridis')\n",
    "\n",
    "# Draw coastlines and fill continents and water with color\n",
    "m.drawcoastlines()\n",
    "\n",
    "x,y = m(toplot[:,1],toplot[:,0])\n",
    "timediff = toplot[:,2]-np.amin(toplot[:,2])\n",
    "print(np.max(timediff))\n",
    "color_interp = np.interp(timediff,[0,24],[0,200])\n",
    "plt.scatter(x,y,40,marker='o',color=cmap((color_interp)))"
   ]
  },
  {
   "cell_type": "code",
   "execution_count": 270,
   "metadata": {},
   "outputs": [
    {
     "name": "stdout",
     "output_type": "stream",
     "text": [
      "9250481\n"
     ]
    }
   ],
   "source": [
    "print(len(Xdata))\n"
   ]
  },
  {
   "cell_type": "markdown",
   "metadata": {},
   "source": [
    "labels = model.labels_\n",
    "d = {'lat': Latitude, 'lon': Longitude, 'label': labels}\n",
    "d = pd.DataFrame(data=d)\n",
    "df = d.groupby(d.columns.tolist(),as_index=False).size()\n",
    "axes = np.array(df.axes)\n",
    "values = np.array(df.values)\n",
    "print(np.array(df.axes))\n",
    "print(np.array(df.values))\n"
   ]
  }
 ],
 "metadata": {
  "kernelspec": {
   "display_name": "Python 3",
   "language": "python",
   "name": "python3"
  },
  "language_info": {
   "codemirror_mode": {
    "name": "ipython",
    "version": 3
   },
   "file_extension": ".py",
   "mimetype": "text/x-python",
   "name": "python",
   "nbconvert_exporter": "python",
   "pygments_lexer": "ipython3",
   "version": "3.6.6"
  }
 },
 "nbformat": 4,
 "nbformat_minor": 2
}
